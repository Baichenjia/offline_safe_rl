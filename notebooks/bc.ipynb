{
 "cells": [
  {
   "cell_type": "code",
   "execution_count": 1,
   "id": "8dac937e",
   "metadata": {
    "execution": {
     "iopub.execute_input": "2021-04-15T03:36:19.227681Z",
     "iopub.status.busy": "2021-04-15T03:36:19.227439Z",
     "iopub.status.idle": "2021-04-15T03:36:20.065900Z",
     "shell.execute_reply": "2021-04-15T03:36:20.065273Z",
     "shell.execute_reply.started": "2021-04-15T03:36:19.227655Z"
    },
    "tags": []
   },
   "outputs": [
    {
     "name": "stdout",
     "output_type": "stream",
     "text": [
      "pygame 2.0.1 (SDL 2.0.14, Python 3.6.13)\n",
      "Hello from the pygame community. https://www.pygame.org/contribute.html\n"
     ]
    },
    {
     "ename": "ImportError",
     "evalue": "cannot import name 'ProbEnsemble'",
     "output_type": "error",
     "traceback": [
      "\u001b[0;31m---------------------------------------------------------------------------\u001b[0m",
      "\u001b[0;31mImportError\u001b[0m                               Traceback (most recent call last)",
      "\u001b[0;32m<ipython-input-1-26b36178c601>\u001b[0m in \u001b[0;36m<module>\u001b[0;34m\u001b[0m\n\u001b[1;32m      5\u001b[0m \u001b[0;32mimport\u001b[0m \u001b[0msafety_gym\u001b[0m\u001b[0;34m\u001b[0m\u001b[0;34m\u001b[0m\u001b[0m\n\u001b[1;32m      6\u001b[0m \u001b[0;32mimport\u001b[0m \u001b[0menv\u001b[0m \u001b[0;32mas\u001b[0m \u001b[0m_env\u001b[0m\u001b[0;34m\u001b[0m\u001b[0;34m\u001b[0m\u001b[0m\n\u001b[0;32m----> 7\u001b[0;31m \u001b[0;32mfrom\u001b[0m \u001b[0mmodels\u001b[0m \u001b[0;32mimport\u001b[0m \u001b[0mProbEnsemble\u001b[0m\u001b[0;34m,\u001b[0m \u001b[0mPredictEnv\u001b[0m\u001b[0;34m\u001b[0m\u001b[0;34m\u001b[0m\u001b[0m\n\u001b[0m\u001b[1;32m      8\u001b[0m \u001b[0;32mfrom\u001b[0m \u001b[0mcem\u001b[0m\u001b[0;34m.\u001b[0m\u001b[0mccem\u001b[0m \u001b[0;32mimport\u001b[0m \u001b[0mConstrainedCEM\u001b[0m\u001b[0;34m\u001b[0m\u001b[0;34m\u001b[0m\u001b[0m\n\u001b[1;32m      9\u001b[0m \u001b[0;32mfrom\u001b[0m \u001b[0mmbrl_utils\u001b[0m \u001b[0;32mimport\u001b[0m \u001b[0;34m*\u001b[0m\u001b[0;34m\u001b[0m\u001b[0;34m\u001b[0m\u001b[0m\n",
      "\u001b[0;31mImportError\u001b[0m: cannot import name 'ProbEnsemble'"
     ]
    }
   ],
   "source": [
    "import numpy as np\n",
    "import argparse\n",
    "from tqdm.notebook import tqdm\n",
    "import gym\n",
    "import safety_gym\n",
    "import env as _env\n",
    "from models import ProbEnsemble, PredictEnv\n",
    "from cem.ccem import ConstrainedCEM\n",
    "from mbrl_utils import *\n",
    "from batch_utils import *\n",
    "from sac import ReplayMemory\n",
    "\n",
    "from models import GaussianPolicy\n",
    "from utils import Args\n"
   ]
  },
  {
   "cell_type": "code",
   "execution_count": null,
   "id": "4e10f66a",
   "metadata": {
    "execution": {
     "iopub.status.busy": "2021-04-15T03:36:20.066458Z",
     "iopub.status.idle": "2021-04-15T03:36:20.066601Z",
     "shell.execute_reply": "2021-04-15T03:36:20.066532Z"
    },
    "tags": []
   },
   "outputs": [],
   "source": [
    "env_name = 'Safexp-PointGoal1-v0'\n",
    "env = gym.make(env_name)\n",
    "\n",
    "obs_shape = env.observation_space.shape\n",
    "act_shape = env.action_space.shape\n",
    "state_size = np.prod(obs_shape)\n",
    "action_size = np.prod(act_shape)\n",
    "policy = GaussianPolicy(obs_shape[0], act_shape[0])"
   ]
  },
  {
   "cell_type": "code",
   "execution_count": 6,
   "id": "75b75ef9",
   "metadata": {
    "execution": {
     "iopub.execute_input": "2021-04-13T10:41:58.113926Z",
     "iopub.status.busy": "2021-04-13T10:41:58.113712Z",
     "iopub.status.idle": "2021-04-13T10:41:58.117070Z",
     "shell.execute_reply": "2021-04-13T10:41:58.116611Z",
     "shell.execute_reply.started": "2021-04-13T10:41:58.113905Z"
    },
    "tags": []
   },
   "outputs": [],
   "source": [
    "args = Args(\n",
    "    replay_size = 2000000,\n",
    "    epoch_length = 1000,\n",
    "    hidden_size = 200,\n",
    "    env = env_name,\n",
    "    cuda = True,\n",
    "    learn_cost = True,\n",
    ")"
   ]
  },
  {
   "cell_type": "code",
   "execution_count": 7,
   "id": "33bdceb0",
   "metadata": {
    "execution": {
     "iopub.execute_input": "2021-04-13T10:42:00.533715Z",
     "iopub.status.busy": "2021-04-13T10:42:00.533465Z",
     "iopub.status.idle": "2021-04-13T10:42:01.876431Z",
     "shell.execute_reply": "2021-04-13T10:42:01.876055Z",
     "shell.execute_reply.started": "2021-04-13T10:42:00.533688Z"
    },
    "tags": []
   },
   "outputs": [
    {
     "name": "stderr",
     "output_type": "stream",
     "text": [
      "/home/andrew/Documents/offline_safe_rl/models/ensemble.py:20: UserWarning: To copy construct from a tensor, it is recommended to use sourceTensor.clone().detach() or sourceTensor.clone().detach().requires_grad_(True), rather than torch.tensor(sourceTensor).\n",
      "  return torch.tensor(val, dtype=torch.float32)\n"
     ]
    }
   ],
   "source": [
    "cost_size = 1 if args.learn_cost else 0\n",
    "\n",
    "env_sampler = EnvSampler(env, max_path_length=args.epoch_length)\n",
    "env_pool = ReplayMemory(args.replay_size)\n",
    "env_model = ProbEnsemble(state_size, action_size, network_size=5,\n",
    "                         reward_size=1+cost_size, hidden_size=args.hidden_size)\n",
    "cem_agent = ConstrainedCEM(env)\n",
    "cem_agent.set_model(env_model)\n",
    "env_model.to('cuda')\n",
    "predict_env = PredictEnv(env_model, args.env)\n"
   ]
  },
  {
   "cell_type": "code",
   "execution_count": 8,
   "id": "9a4bf693",
   "metadata": {
    "execution": {
     "iopub.execute_input": "2021-04-13T10:42:04.354716Z",
     "iopub.status.busy": "2021-04-13T10:42:04.354438Z",
     "iopub.status.idle": "2021-04-13T10:42:04.363044Z",
     "shell.execute_reply": "2021-04-13T10:42:04.362591Z",
     "shell.execute_reply.started": "2021-04-13T10:42:04.354687Z"
    },
    "tags": []
   },
   "outputs": [],
   "source": [
    "def rollout(steps, max_eps_length, env, agent):\n",
    "    obs = env.reset()\n",
    "    done = False\n",
    "    eps_ret = 0\n",
    "    t = 0\n",
    "    \n",
    "    obs_buf = []\n",
    "    act_buf = []\n",
    "    eps_ret_buf = []\n",
    "    eps_len_buf = []\n",
    "    \n",
    "    for step in tqdm(range(steps)):\n",
    "        action = agent.select_action(obs)\n",
    "        next_obs, reward, done, info = env.step(action)\n",
    "        obs_buf.append(obs)\n",
    "        act_buf.append(action)\n",
    "        eps_ret += reward\n",
    "        cost = info.get(\"cost\", 0)\n",
    "        \n",
    "        obs = next_obs\n",
    "        \n",
    "\n",
    "        if done or step == steps - 1 or t == max_eps_length - 1:\n",
    "            eps_ret_buf.append(eps_ret)\n",
    "            eps_len_buf.append(t + 1)\n",
    "            \n",
    "            obs = env.reset()\n",
    "            done = False\n",
    "            eps_ret = 0\n",
    "            t = 0\n",
    "        else:\n",
    "            t += 1\n",
    "\n",
    "        if step == steps - 1:\n",
    "            break\n",
    "            \n",
    "    \n",
    "    return dict(states=obs_buf, actions=act_buf, eps_ret=eps_ret_buf, eps_len=eps_len_buf)\n"
   ]
  },
  {
   "cell_type": "markdown",
   "id": "88eded2d",
   "metadata": {},
   "source": [
    "## Return of 2.5 is good"
   ]
  },
  {
   "cell_type": "code",
   "execution_count": 12,
   "id": "da483372",
   "metadata": {
    "execution": {
     "iopub.execute_input": "2021-04-13T10:45:16.376965Z",
     "iopub.status.busy": "2021-04-13T10:45:16.376756Z",
     "iopub.status.idle": "2021-04-13T14:03:37.067255Z",
     "shell.execute_reply": "2021-04-13T14:03:37.066692Z",
     "shell.execute_reply.started": "2021-04-13T10:45:16.376944Z"
    },
    "tags": []
   },
   "outputs": [
    {
     "name": "stderr",
     "output_type": "stream",
     "text": [
      "Failed to detect the name of this notebook, you can set it manually with the WANDB_NOTEBOOK_NAME environment variable to enable code saving.\n",
      "\u001b[34m\u001b[1mwandb\u001b[0m: Currently logged in as: \u001b[33mchaisilva\u001b[0m (use `wandb login --relogin` to force relogin)\n",
      "\u001b[34m\u001b[1mwandb\u001b[0m: wandb version 0.10.25 is available!  To upgrade, please run:\n",
      "\u001b[34m\u001b[1mwandb\u001b[0m:  $ pip install wandb --upgrade\n"
     ]
    },
    {
     "data": {
      "text/html": [
       "\n",
       "                Tracking run with wandb version 0.10.22<br/>\n",
       "                Syncing run <strong style=\"color:#cdcd00\">earnest-moon-16</strong> to <a href=\"https://wandb.ai\" target=\"_blank\">Weights & Biases</a> <a href=\"https://docs.wandb.com/integrations/jupyter.html\" target=\"_blank\">(Documentation)</a>.<br/>\n",
       "                Project page: <a href=\"https://wandb.ai/chaisilva/safety-gym\" target=\"_blank\">https://wandb.ai/chaisilva/safety-gym</a><br/>\n",
       "                Run page: <a href=\"https://wandb.ai/chaisilva/safety-gym/runs/1c8u4ckg\" target=\"_blank\">https://wandb.ai/chaisilva/safety-gym/runs/1c8u4ckg</a><br/>\n",
       "                Run data is saved locally in <code>/home/andrew/Documents/offline_safe_rl/notebooks/wandb/run-20210413_204517-1c8u4ckg</code><br/><br/>\n",
       "            "
      ],
      "text/plain": [
       "<IPython.core.display.HTML object>"
      ]
     },
     "metadata": {},
     "output_type": "display_data"
    },
    {
     "data": {
      "application/vnd.jupyter.widget-view+json": {
       "model_id": "c65e3d741cc34ceaa642934436ffb6d4",
       "version_major": 2,
       "version_minor": 0
      },
      "text/plain": [
       "  0%|          | 0/100 [00:00<?, ?it/s]"
      ]
     },
     "metadata": {},
     "output_type": "display_data"
    },
    {
     "name": "stdout",
     "output_type": "stream",
     "text": [
      "Epoch 0, CEM Return -0.004093102357461742\n"
     ]
    },
    {
     "data": {
      "application/vnd.jupyter.widget-view+json": {
       "model_id": "9df02c24964242239b69c5f1898ed2c1",
       "version_major": 2,
       "version_minor": 0
      },
      "text/plain": [
       "  0%|          | 0/100 [00:00<?, ?it/s]"
      ]
     },
     "metadata": {},
     "output_type": "display_data"
    },
    {
     "name": "stdout",
     "output_type": "stream",
     "text": [
      "Epoch 1, CEM Return 0.36938211136373034\n"
     ]
    },
    {
     "data": {
      "application/vnd.jupyter.widget-view+json": {
       "model_id": "86216d5124e446f1b3e6c2244d31e031",
       "version_major": 2,
       "version_minor": 0
      },
      "text/plain": [
       "  0%|          | 0/100 [00:00<?, ?it/s]"
      ]
     },
     "metadata": {},
     "output_type": "display_data"
    },
    {
     "name": "stdout",
     "output_type": "stream",
     "text": [
      "Epoch 2, CEM Return 1.4969363889181113\n"
     ]
    },
    {
     "data": {
      "application/vnd.jupyter.widget-view+json": {
       "model_id": "41c4e398277f4290b3c58dc72131342d",
       "version_major": 2,
       "version_minor": 0
      },
      "text/plain": [
       "  0%|          | 0/100 [00:00<?, ?it/s]"
      ]
     },
     "metadata": {},
     "output_type": "display_data"
    },
    {
     "name": "stdout",
     "output_type": "stream",
     "text": [
      "Epoch 3, CEM Return 0.3627313374497416\n"
     ]
    },
    {
     "data": {
      "application/vnd.jupyter.widget-view+json": {
       "model_id": "5f979fec96854ae8b9cc93378860f3d9",
       "version_major": 2,
       "version_minor": 0
      },
      "text/plain": [
       "  0%|          | 0/100 [00:00<?, ?it/s]"
      ]
     },
     "metadata": {},
     "output_type": "display_data"
    },
    {
     "name": "stdout",
     "output_type": "stream",
     "text": [
      "Epoch 4, CEM Return 1.2139028468153157\n"
     ]
    },
    {
     "data": {
      "application/vnd.jupyter.widget-view+json": {
       "model_id": "c3e6d2bf5b2646ff8717d2d8ccf8f45d",
       "version_major": 2,
       "version_minor": 0
      },
      "text/plain": [
       "  0%|          | 0/100 [00:00<?, ?it/s]"
      ]
     },
     "metadata": {},
     "output_type": "display_data"
    },
    {
     "name": "stdout",
     "output_type": "stream",
     "text": [
      "Epoch 5, CEM Return 0.27228349881958835\n"
     ]
    },
    {
     "data": {
      "application/vnd.jupyter.widget-view+json": {
       "model_id": "97fac97d62ed43fd96aa4fac492d68aa",
       "version_major": 2,
       "version_minor": 0
      },
      "text/plain": [
       "  0%|          | 0/100 [00:00<?, ?it/s]"
      ]
     },
     "metadata": {},
     "output_type": "display_data"
    },
    {
     "name": "stdout",
     "output_type": "stream",
     "text": [
      "Epoch 6, CEM Return -0.05707362625015122\n"
     ]
    },
    {
     "data": {
      "application/vnd.jupyter.widget-view+json": {
       "model_id": "100f6d740765495fb8c1f7f65c9e7d45",
       "version_major": 2,
       "version_minor": 0
      },
      "text/plain": [
       "  0%|          | 0/100 [00:00<?, ?it/s]"
      ]
     },
     "metadata": {},
     "output_type": "display_data"
    },
    {
     "name": "stdout",
     "output_type": "stream",
     "text": [
      "Epoch 7, CEM Return 0.9579252014395596\n"
     ]
    },
    {
     "data": {
      "application/vnd.jupyter.widget-view+json": {
       "model_id": "493a1d771f5f4b2e973617f4d6bc02db",
       "version_major": 2,
       "version_minor": 0
      },
      "text/plain": [
       "  0%|          | 0/100 [00:00<?, ?it/s]"
      ]
     },
     "metadata": {},
     "output_type": "display_data"
    },
    {
     "name": "stdout",
     "output_type": "stream",
     "text": [
      "Epoch 8, CEM Return 0.17737921542782686\n"
     ]
    },
    {
     "data": {
      "application/vnd.jupyter.widget-view+json": {
       "model_id": "84cfe34a37d1485a829eb4949e574e4d",
       "version_major": 2,
       "version_minor": 0
      },
      "text/plain": [
       "  0%|          | 0/100 [00:00<?, ?it/s]"
      ]
     },
     "metadata": {},
     "output_type": "display_data"
    },
    {
     "name": "stdout",
     "output_type": "stream",
     "text": [
      "Epoch 9, CEM Return -0.07808916007812405\n"
     ]
    },
    {
     "data": {
      "application/vnd.jupyter.widget-view+json": {
       "model_id": "0cb6ed5884ed4d51ab4778c3f91feaa6",
       "version_major": 2,
       "version_minor": 0
      },
      "text/plain": [
       "  0%|          | 0/100 [00:00<?, ?it/s]"
      ]
     },
     "metadata": {},
     "output_type": "display_data"
    },
    {
     "name": "stdout",
     "output_type": "stream",
     "text": [
      "Epoch 10, CEM Return 1.4513826133329581\n"
     ]
    },
    {
     "data": {
      "application/vnd.jupyter.widget-view+json": {
       "model_id": "dfe0191590ca44a59f08106b2fd0e5a8",
       "version_major": 2,
       "version_minor": 0
      },
      "text/plain": [
       "  0%|          | 0/100 [00:00<?, ?it/s]"
      ]
     },
     "metadata": {},
     "output_type": "display_data"
    },
    {
     "name": "stdout",
     "output_type": "stream",
     "text": [
      "Epoch 11, CEM Return 1.5225972410986384\n"
     ]
    },
    {
     "data": {
      "application/vnd.jupyter.widget-view+json": {
       "model_id": "08265faff52f41b8ac2a5c8f867a4f13",
       "version_major": 2,
       "version_minor": 0
      },
      "text/plain": [
       "  0%|          | 0/100 [00:00<?, ?it/s]"
      ]
     },
     "metadata": {},
     "output_type": "display_data"
    },
    {
     "name": "stdout",
     "output_type": "stream",
     "text": [
      "Epoch 12, CEM Return 0.4700695671606562\n"
     ]
    },
    {
     "data": {
      "application/vnd.jupyter.widget-view+json": {
       "model_id": "8f715d466c4443fbaefce95211d1f645",
       "version_major": 2,
       "version_minor": 0
      },
      "text/plain": [
       "  0%|          | 0/100 [00:00<?, ?it/s]"
      ]
     },
     "metadata": {},
     "output_type": "display_data"
    },
    {
     "name": "stdout",
     "output_type": "stream",
     "text": [
      "Epoch 13, CEM Return 0.7705591273228184\n"
     ]
    },
    {
     "data": {
      "application/vnd.jupyter.widget-view+json": {
       "model_id": "805cc365b24d4f4e8d88057baea7b17b",
       "version_major": 2,
       "version_minor": 0
      },
      "text/plain": [
       "  0%|          | 0/100 [00:00<?, ?it/s]"
      ]
     },
     "metadata": {},
     "output_type": "display_data"
    },
    {
     "name": "stdout",
     "output_type": "stream",
     "text": [
      "Epoch 14, CEM Return 1.3446637984539815\n"
     ]
    },
    {
     "data": {
      "application/vnd.jupyter.widget-view+json": {
       "model_id": "b5494159815446bc9e17a12368484327",
       "version_major": 2,
       "version_minor": 0
      },
      "text/plain": [
       "  0%|          | 0/100 [00:00<?, ?it/s]"
      ]
     },
     "metadata": {},
     "output_type": "display_data"
    },
    {
     "name": "stdout",
     "output_type": "stream",
     "text": [
      "Epoch 15, CEM Return 1.0000554633006473\n"
     ]
    },
    {
     "data": {
      "application/vnd.jupyter.widget-view+json": {
       "model_id": "bf4be12c96964044b112336e628394af",
       "version_major": 2,
       "version_minor": 0
      },
      "text/plain": [
       "  0%|          | 0/100 [00:00<?, ?it/s]"
      ]
     },
     "metadata": {},
     "output_type": "display_data"
    },
    {
     "name": "stdout",
     "output_type": "stream",
     "text": [
      "Epoch 16, CEM Return 1.6496922188498289\n"
     ]
    },
    {
     "data": {
      "application/vnd.jupyter.widget-view+json": {
       "model_id": "0b2cb5e4700e465498b0c23c6d2b7bfa",
       "version_major": 2,
       "version_minor": 0
      },
      "text/plain": [
       "  0%|          | 0/100 [00:00<?, ?it/s]"
      ]
     },
     "metadata": {},
     "output_type": "display_data"
    },
    {
     "name": "stdout",
     "output_type": "stream",
     "text": [
      "Epoch 17, CEM Return 0.8501548127817765\n"
     ]
    },
    {
     "data": {
      "application/vnd.jupyter.widget-view+json": {
       "model_id": "b191c661b9f74cf882d7d80ac94c7a47",
       "version_major": 2,
       "version_minor": 0
      },
      "text/plain": [
       "  0%|          | 0/100 [00:00<?, ?it/s]"
      ]
     },
     "metadata": {},
     "output_type": "display_data"
    },
    {
     "name": "stdout",
     "output_type": "stream",
     "text": [
      "Epoch 18, CEM Return 0.04638263703728418\n"
     ]
    },
    {
     "data": {
      "application/vnd.jupyter.widget-view+json": {
       "model_id": "2cb3d071588f4f289df442e0d8c63cfd",
       "version_major": 2,
       "version_minor": 0
      },
      "text/plain": [
       "  0%|          | 0/100 [00:00<?, ?it/s]"
      ]
     },
     "metadata": {},
     "output_type": "display_data"
    },
    {
     "name": "stdout",
     "output_type": "stream",
     "text": [
      "Epoch 19, CEM Return 0.6647768132320421\n"
     ]
    },
    {
     "data": {
      "application/vnd.jupyter.widget-view+json": {
       "model_id": "5031d7278079462eba4d4a7d650b03fe",
       "version_major": 2,
       "version_minor": 0
      },
      "text/plain": [
       "  0%|          | 0/100 [00:00<?, ?it/s]"
      ]
     },
     "metadata": {},
     "output_type": "display_data"
    },
    {
     "name": "stdout",
     "output_type": "stream",
     "text": [
      "Epoch 20, CEM Return 0.012882779228448049\n"
     ]
    },
    {
     "data": {
      "application/vnd.jupyter.widget-view+json": {
       "model_id": "5880370db14e4470bf8e4de3f86f0900",
       "version_major": 2,
       "version_minor": 0
      },
      "text/plain": [
       "  0%|          | 0/100 [00:00<?, ?it/s]"
      ]
     },
     "metadata": {},
     "output_type": "display_data"
    },
    {
     "name": "stdout",
     "output_type": "stream",
     "text": [
      "Epoch 21, CEM Return 0.7675115080135656\n"
     ]
    },
    {
     "data": {
      "application/vnd.jupyter.widget-view+json": {
       "model_id": "237fe21447344b8ca21e770ec11afea6",
       "version_major": 2,
       "version_minor": 0
      },
      "text/plain": [
       "  0%|          | 0/100 [00:00<?, ?it/s]"
      ]
     },
     "metadata": {},
     "output_type": "display_data"
    },
    {
     "name": "stdout",
     "output_type": "stream",
     "text": [
      "Epoch 22, CEM Return 0.22578529843899398\n"
     ]
    },
    {
     "data": {
      "application/vnd.jupyter.widget-view+json": {
       "model_id": "b8c4336f67f04808b4f84d1926bbe027",
       "version_major": 2,
       "version_minor": 0
      },
      "text/plain": [
       "  0%|          | 0/100 [00:00<?, ?it/s]"
      ]
     },
     "metadata": {},
     "output_type": "display_data"
    },
    {
     "name": "stdout",
     "output_type": "stream",
     "text": [
      "Epoch 23, CEM Return 0.9448900909020836\n"
     ]
    },
    {
     "data": {
      "application/vnd.jupyter.widget-view+json": {
       "model_id": "3f2819c847274acb8afbf7fddb5acc34",
       "version_major": 2,
       "version_minor": 0
      },
      "text/plain": [
       "  0%|          | 0/100 [00:00<?, ?it/s]"
      ]
     },
     "metadata": {},
     "output_type": "display_data"
    },
    {
     "name": "stdout",
     "output_type": "stream",
     "text": [
      "Epoch 24, CEM Return 2.0175425649541836\n"
     ]
    },
    {
     "data": {
      "application/vnd.jupyter.widget-view+json": {
       "model_id": "094b2a25133540629338abb1321ba66b",
       "version_major": 2,
       "version_minor": 0
      },
      "text/plain": [
       "  0%|          | 0/100 [00:00<?, ?it/s]"
      ]
     },
     "metadata": {},
     "output_type": "display_data"
    },
    {
     "name": "stdout",
     "output_type": "stream",
     "text": [
      "Epoch 25, CEM Return 2.370884200105765\n"
     ]
    },
    {
     "data": {
      "application/vnd.jupyter.widget-view+json": {
       "model_id": "db542d813a904e66a759972974dd93fe",
       "version_major": 2,
       "version_minor": 0
      },
      "text/plain": [
       "  0%|          | 0/100 [00:00<?, ?it/s]"
      ]
     },
     "metadata": {},
     "output_type": "display_data"
    },
    {
     "name": "stdout",
     "output_type": "stream",
     "text": [
      "Epoch 26, CEM Return 0.2516269355772025\n"
     ]
    },
    {
     "data": {
      "application/vnd.jupyter.widget-view+json": {
       "model_id": "1101ac46aa1f452490934d52b38da8b5",
       "version_major": 2,
       "version_minor": 0
      },
      "text/plain": [
       "  0%|          | 0/100 [00:00<?, ?it/s]"
      ]
     },
     "metadata": {},
     "output_type": "display_data"
    },
    {
     "name": "stdout",
     "output_type": "stream",
     "text": [
      "Epoch 27, CEM Return 0.3804884739108141\n"
     ]
    },
    {
     "data": {
      "application/vnd.jupyter.widget-view+json": {
       "model_id": "eb479ee4c6a745d2a4e6700ab8e03fbb",
       "version_major": 2,
       "version_minor": 0
      },
      "text/plain": [
       "  0%|          | 0/100 [00:00<?, ?it/s]"
      ]
     },
     "metadata": {},
     "output_type": "display_data"
    },
    {
     "name": "stdout",
     "output_type": "stream",
     "text": [
      "Epoch 28, CEM Return 0.13130641090862682\n"
     ]
    },
    {
     "data": {
      "application/vnd.jupyter.widget-view+json": {
       "model_id": "6497b5bd9ad445cb9791f5d01e01b64e",
       "version_major": 2,
       "version_minor": 0
      },
      "text/plain": [
       "  0%|          | 0/100 [00:00<?, ?it/s]"
      ]
     },
     "metadata": {},
     "output_type": "display_data"
    },
    {
     "name": "stdout",
     "output_type": "stream",
     "text": [
      "Epoch 29, CEM Return 0.3539001021195747\n"
     ]
    },
    {
     "data": {
      "application/vnd.jupyter.widget-view+json": {
       "model_id": "9b29d66a1219405a87329984c0553f1e",
       "version_major": 2,
       "version_minor": 0
      },
      "text/plain": [
       "  0%|          | 0/100 [00:00<?, ?it/s]"
      ]
     },
     "metadata": {},
     "output_type": "display_data"
    },
    {
     "name": "stdout",
     "output_type": "stream",
     "text": [
      "Epoch 30, CEM Return 1.728422090923515\n"
     ]
    },
    {
     "data": {
      "application/vnd.jupyter.widget-view+json": {
       "model_id": "5144deca915349fc94bae09603930920",
       "version_major": 2,
       "version_minor": 0
      },
      "text/plain": [
       "  0%|          | 0/100 [00:00<?, ?it/s]"
      ]
     },
     "metadata": {},
     "output_type": "display_data"
    },
    {
     "name": "stdout",
     "output_type": "stream",
     "text": [
      "Epoch 31, CEM Return 0.18647894584635671\n"
     ]
    },
    {
     "data": {
      "application/vnd.jupyter.widget-view+json": {
       "model_id": "23738aaad00f424aa77ca239cc006e90",
       "version_major": 2,
       "version_minor": 0
      },
      "text/plain": [
       "  0%|          | 0/100 [00:00<?, ?it/s]"
      ]
     },
     "metadata": {},
     "output_type": "display_data"
    },
    {
     "name": "stdout",
     "output_type": "stream",
     "text": [
      "Epoch 32, CEM Return 0.9365700860152115\n"
     ]
    },
    {
     "data": {
      "application/vnd.jupyter.widget-view+json": {
       "model_id": "ac079ac542294e1280aa4d324fb9967c",
       "version_major": 2,
       "version_minor": 0
      },
      "text/plain": [
       "  0%|          | 0/100 [00:00<?, ?it/s]"
      ]
     },
     "metadata": {},
     "output_type": "display_data"
    },
    {
     "name": "stdout",
     "output_type": "stream",
     "text": [
      "Epoch 33, CEM Return 0.3719206848560911\n"
     ]
    },
    {
     "data": {
      "application/vnd.jupyter.widget-view+json": {
       "model_id": "4dc70f445d9a45b59cb13ccc073ba33e",
       "version_major": 2,
       "version_minor": 0
      },
      "text/plain": [
       "  0%|          | 0/100 [00:00<?, ?it/s]"
      ]
     },
     "metadata": {},
     "output_type": "display_data"
    },
    {
     "name": "stdout",
     "output_type": "stream",
     "text": [
      "Epoch 34, CEM Return 1.9427600581794613\n"
     ]
    },
    {
     "data": {
      "application/vnd.jupyter.widget-view+json": {
       "model_id": "e968a84f350940a88d2055165a451e8a",
       "version_major": 2,
       "version_minor": 0
      },
      "text/plain": [
       "  0%|          | 0/100 [00:00<?, ?it/s]"
      ]
     },
     "metadata": {},
     "output_type": "display_data"
    },
    {
     "name": "stdout",
     "output_type": "stream",
     "text": [
      "Epoch 35, CEM Return 0.7046748864175589\n"
     ]
    },
    {
     "data": {
      "application/vnd.jupyter.widget-view+json": {
       "model_id": "97eb6d4f37dc493d8f1999a8614e1963",
       "version_major": 2,
       "version_minor": 0
      },
      "text/plain": [
       "  0%|          | 0/100 [00:00<?, ?it/s]"
      ]
     },
     "metadata": {},
     "output_type": "display_data"
    },
    {
     "name": "stdout",
     "output_type": "stream",
     "text": [
      "Epoch 36, CEM Return 0.3871313563493728\n"
     ]
    },
    {
     "data": {
      "application/vnd.jupyter.widget-view+json": {
       "model_id": "5f0c6667b6414be3bf2b90362ebe2f62",
       "version_major": 2,
       "version_minor": 0
      },
      "text/plain": [
       "  0%|          | 0/100 [00:00<?, ?it/s]"
      ]
     },
     "metadata": {},
     "output_type": "display_data"
    },
    {
     "name": "stdout",
     "output_type": "stream",
     "text": [
      "Epoch 37, CEM Return 0.4643192496691637\n"
     ]
    },
    {
     "data": {
      "application/vnd.jupyter.widget-view+json": {
       "model_id": "9cdaebd6f05542f787ee9712d9e2acfd",
       "version_major": 2,
       "version_minor": 0
      },
      "text/plain": [
       "  0%|          | 0/100 [00:00<?, ?it/s]"
      ]
     },
     "metadata": {},
     "output_type": "display_data"
    },
    {
     "name": "stdout",
     "output_type": "stream",
     "text": [
      "Epoch 38, CEM Return 0.5024020085724167\n"
     ]
    },
    {
     "data": {
      "application/vnd.jupyter.widget-view+json": {
       "model_id": "ace390a933da4e649641d4c105f09f12",
       "version_major": 2,
       "version_minor": 0
      },
      "text/plain": [
       "  0%|          | 0/100 [00:00<?, ?it/s]"
      ]
     },
     "metadata": {},
     "output_type": "display_data"
    },
    {
     "name": "stdout",
     "output_type": "stream",
     "text": [
      "Epoch 39, CEM Return 2.094889167288533\n"
     ]
    },
    {
     "data": {
      "application/vnd.jupyter.widget-view+json": {
       "model_id": "5d6c4e56215c48d491717bd0c60c8247",
       "version_major": 2,
       "version_minor": 0
      },
      "text/plain": [
       "  0%|          | 0/100 [00:00<?, ?it/s]"
      ]
     },
     "metadata": {},
     "output_type": "display_data"
    },
    {
     "name": "stdout",
     "output_type": "stream",
     "text": [
      "Epoch 40, CEM Return 0.19617143480200483\n"
     ]
    },
    {
     "data": {
      "application/vnd.jupyter.widget-view+json": {
       "model_id": "665d79298e754c509b04fbb12c8d2f69",
       "version_major": 2,
       "version_minor": 0
      },
      "text/plain": [
       "  0%|          | 0/100 [00:00<?, ?it/s]"
      ]
     },
     "metadata": {},
     "output_type": "display_data"
    },
    {
     "name": "stdout",
     "output_type": "stream",
     "text": [
      "Epoch 41, CEM Return 0.3638278379569635\n"
     ]
    },
    {
     "data": {
      "application/vnd.jupyter.widget-view+json": {
       "model_id": "0578ba5a4f2c4b07b460f3addd2011e4",
       "version_major": 2,
       "version_minor": 0
      },
      "text/plain": [
       "  0%|          | 0/100 [00:00<?, ?it/s]"
      ]
     },
     "metadata": {},
     "output_type": "display_data"
    },
    {
     "name": "stdout",
     "output_type": "stream",
     "text": [
      "Epoch 42, CEM Return 0.30549325990285925\n"
     ]
    },
    {
     "data": {
      "application/vnd.jupyter.widget-view+json": {
       "model_id": "077265857c2c49ef8c5f5e30bd4da139",
       "version_major": 2,
       "version_minor": 0
      },
      "text/plain": [
       "  0%|          | 0/100 [00:00<?, ?it/s]"
      ]
     },
     "metadata": {},
     "output_type": "display_data"
    },
    {
     "name": "stdout",
     "output_type": "stream",
     "text": [
      "Epoch 43, CEM Return 1.8583013943873818\n"
     ]
    },
    {
     "data": {
      "application/vnd.jupyter.widget-view+json": {
       "model_id": "49a803e1d6d043959884897ff13cf4f8",
       "version_major": 2,
       "version_minor": 0
      },
      "text/plain": [
       "  0%|          | 0/100 [00:00<?, ?it/s]"
      ]
     },
     "metadata": {},
     "output_type": "display_data"
    },
    {
     "name": "stdout",
     "output_type": "stream",
     "text": [
      "Epoch 44, CEM Return 0.9799260748844695\n"
     ]
    },
    {
     "data": {
      "application/vnd.jupyter.widget-view+json": {
       "model_id": "5aea1147fed3490696229ca64906b241",
       "version_major": 2,
       "version_minor": 0
      },
      "text/plain": [
       "  0%|          | 0/100 [00:00<?, ?it/s]"
      ]
     },
     "metadata": {},
     "output_type": "display_data"
    },
    {
     "name": "stdout",
     "output_type": "stream",
     "text": [
      "Epoch 45, CEM Return -0.11963476814434848\n"
     ]
    },
    {
     "data": {
      "application/vnd.jupyter.widget-view+json": {
       "model_id": "e6e0a0c62be34d35bd8803ad04176c28",
       "version_major": 2,
       "version_minor": 0
      },
      "text/plain": [
       "  0%|          | 0/100 [00:00<?, ?it/s]"
      ]
     },
     "metadata": {},
     "output_type": "display_data"
    },
    {
     "name": "stdout",
     "output_type": "stream",
     "text": [
      "Epoch 46, CEM Return -0.2911052100443614\n"
     ]
    },
    {
     "data": {
      "application/vnd.jupyter.widget-view+json": {
       "model_id": "b9396b20fce847e49a3dc9f84eb96b27",
       "version_major": 2,
       "version_minor": 0
      },
      "text/plain": [
       "  0%|          | 0/100 [00:00<?, ?it/s]"
      ]
     },
     "metadata": {},
     "output_type": "display_data"
    },
    {
     "name": "stdout",
     "output_type": "stream",
     "text": [
      "Epoch 47, CEM Return 0.5656420485563661\n"
     ]
    },
    {
     "data": {
      "application/vnd.jupyter.widget-view+json": {
       "model_id": "21c5b017572e48318980483aedae8012",
       "version_major": 2,
       "version_minor": 0
      },
      "text/plain": [
       "  0%|          | 0/100 [00:00<?, ?it/s]"
      ]
     },
     "metadata": {},
     "output_type": "display_data"
    },
    {
     "name": "stdout",
     "output_type": "stream",
     "text": [
      "Epoch 48, CEM Return -0.058422260214551214\n"
     ]
    },
    {
     "data": {
      "application/vnd.jupyter.widget-view+json": {
       "model_id": "920af56f50334aa99baeff166b8a0311",
       "version_major": 2,
       "version_minor": 0
      },
      "text/plain": [
       "  0%|          | 0/100 [00:00<?, ?it/s]"
      ]
     },
     "metadata": {},
     "output_type": "display_data"
    },
    {
     "name": "stdout",
     "output_type": "stream",
     "text": [
      "Epoch 49, CEM Return 0.9237635757725853\n"
     ]
    },
    {
     "data": {
      "application/vnd.jupyter.widget-view+json": {
       "model_id": "6701131e607f41fe80627675e8b05f26",
       "version_major": 2,
       "version_minor": 0
      },
      "text/plain": [
       "  0%|          | 0/100 [00:00<?, ?it/s]"
      ]
     },
     "metadata": {},
     "output_type": "display_data"
    },
    {
     "name": "stdout",
     "output_type": "stream",
     "text": [
      "Epoch 50, CEM Return 0.5385885275690516\n"
     ]
    },
    {
     "data": {
      "application/vnd.jupyter.widget-view+json": {
       "model_id": "922a54a9c6cb4738ba8f35cf51c0fe93",
       "version_major": 2,
       "version_minor": 0
      },
      "text/plain": [
       "  0%|          | 0/100 [00:00<?, ?it/s]"
      ]
     },
     "metadata": {},
     "output_type": "display_data"
    },
    {
     "name": "stderr",
     "output_type": "stream",
     "text": [
      "/home/andrew/miniconda3/envs/offline-saferl/lib/python3.6/site-packages/numpy/core/fromnumeric.py:3257: RuntimeWarning: Mean of empty slice.\n",
      "  out=out, **kwargs)\n",
      "/home/andrew/miniconda3/envs/offline-saferl/lib/python3.6/site-packages/numpy/core/_methods.py:154: RuntimeWarning: invalid value encountered in true_divide\n",
      "  ret, rcount, out=ret, casting='unsafe', subok=False)\n",
      "/home/andrew/miniconda3/envs/offline-saferl/lib/python3.6/site-packages/numpy/core/fromnumeric.py:3506: RuntimeWarning: Degrees of freedom <= 0 for slice\n",
      "  **kwargs)\n",
      "/home/andrew/miniconda3/envs/offline-saferl/lib/python3.6/site-packages/numpy/core/_methods.py:186: RuntimeWarning: invalid value encountered in true_divide\n",
      "  arrmean, rcount, out=arrmean, casting='unsafe', subok=False)\n",
      "/home/andrew/miniconda3/envs/offline-saferl/lib/python3.6/site-packages/numpy/core/_methods.py:207: RuntimeWarning: invalid value encountered in true_divide\n",
      "  ret, rcount, out=ret, casting='unsafe', subok=False)\n"
     ]
    },
    {
     "name": "stdout",
     "output_type": "stream",
     "text": [
      "MujocoException Unknown warning type Time = 0.3400.Check for NaN in simulation.\n",
      "MujocoException Unknown warning type Time = 0.0000.Check for NaN in simulation.\n",
      "MujocoException Unknown warning type Time = 0.0000.Check for NaN in simulation.\n",
      "MujocoException Unknown warning type Time = 0.0000.Check for NaN in simulation.\n",
      "MujocoException Unknown warning type Time = 0.0000.Check for NaN in simulation.\n",
      "MujocoException Unknown warning type Time = 0.0000.Check for NaN in simulation.\n",
      "MujocoException Unknown warning type Time = 0.0000.Check for NaN in simulation.\n",
      "MujocoException Unknown warning type Time = 0.0000.Check for NaN in simulation.\n",
      "MujocoException Unknown warning type Time = 0.0000.Check for NaN in simulation.\n",
      "MujocoException Unknown warning type Time = 0.0000.Check for NaN in simulation.\n",
      "MujocoException Unknown warning type Time = 0.0000.Check for NaN in simulation.\n",
      "MujocoException Unknown warning type Time = 0.0000.Check for NaN in simulation.\n",
      "MujocoException Unknown warning type Time = 0.0000.Check for NaN in simulation.\n",
      "MujocoException Unknown warning type Time = 0.0000.Check for NaN in simulation.\n",
      "MujocoException Unknown warning type Time = 0.0000.Check for NaN in simulation.\n",
      "MujocoException Unknown warning type Time = 0.0000.Check for NaN in simulation.\n",
      "MujocoException Unknown warning type Time = 0.0000.Check for NaN in simulation.\n",
      "MujocoException Unknown warning type Time = 0.0000.Check for NaN in simulation.\n",
      "MujocoException Unknown warning type Time = 0.0000.Check for NaN in simulation.\n",
      "MujocoException Unknown warning type Time = 0.0000.Check for NaN in simulation.\n",
      "MujocoException Unknown warning type Time = 0.0000.Check for NaN in simulation.\n",
      "MujocoException Unknown warning type Time = 0.0000.Check for NaN in simulation.\n",
      "MujocoException Unknown warning type Time = 0.0000.Check for NaN in simulation.\n",
      "MujocoException Unknown warning type Time = 0.0000.Check for NaN in simulation.\n",
      "MujocoException Unknown warning type Time = 0.0000.Check for NaN in simulation.\n",
      "MujocoException Unknown warning type Time = 0.0000.Check for NaN in simulation.\n",
      "MujocoException Unknown warning type Time = 0.0000.Check for NaN in simulation.\n",
      "MujocoException Unknown warning type Time = 0.0000.Check for NaN in simulation.\n",
      "MujocoException Unknown warning type Time = 0.0000.Check for NaN in simulation.\n",
      "MujocoException Unknown warning type Time = 0.0000.Check for NaN in simulation.\n",
      "Epoch 51, CEM Return -9.67003868444939\n"
     ]
    },
    {
     "data": {
      "application/vnd.jupyter.widget-view+json": {
       "model_id": "fb89236790e74ae7b1f432254d38232b",
       "version_major": 2,
       "version_minor": 0
      },
      "text/plain": [
       "  0%|          | 0/100 [00:00<?, ?it/s]"
      ]
     },
     "metadata": {},
     "output_type": "display_data"
    },
    {
     "name": "stdout",
     "output_type": "stream",
     "text": [
      "Epoch 52, CEM Return 0.7014994452176677\n"
     ]
    },
    {
     "data": {
      "application/vnd.jupyter.widget-view+json": {
       "model_id": "1d607de62d5f40688f75c88d5afc422f",
       "version_major": 2,
       "version_minor": 0
      },
      "text/plain": [
       "  0%|          | 0/100 [00:00<?, ?it/s]"
      ]
     },
     "metadata": {},
     "output_type": "display_data"
    },
    {
     "name": "stdout",
     "output_type": "stream",
     "text": [
      "Epoch 53, CEM Return 0.08221529207732337\n"
     ]
    },
    {
     "data": {
      "application/vnd.jupyter.widget-view+json": {
       "model_id": "70f833f3786d409590dcbe580b667a06",
       "version_major": 2,
       "version_minor": 0
      },
      "text/plain": [
       "  0%|          | 0/100 [00:00<?, ?it/s]"
      ]
     },
     "metadata": {},
     "output_type": "display_data"
    },
    {
     "name": "stdout",
     "output_type": "stream",
     "text": [
      "Epoch 54, CEM Return 1.4866367486733227\n"
     ]
    },
    {
     "data": {
      "application/vnd.jupyter.widget-view+json": {
       "model_id": "881ac423a4124561b62ab28a92be3aa0",
       "version_major": 2,
       "version_minor": 0
      },
      "text/plain": [
       "  0%|          | 0/100 [00:00<?, ?it/s]"
      ]
     },
     "metadata": {},
     "output_type": "display_data"
    },
    {
     "name": "stdout",
     "output_type": "stream",
     "text": [
      "Epoch 55, CEM Return 0.3567423652658297\n"
     ]
    },
    {
     "data": {
      "application/vnd.jupyter.widget-view+json": {
       "model_id": "ab21795c06c24de983fd58d39ab1228f",
       "version_major": 2,
       "version_minor": 0
      },
      "text/plain": [
       "  0%|          | 0/100 [00:00<?, ?it/s]"
      ]
     },
     "metadata": {},
     "output_type": "display_data"
    },
    {
     "name": "stdout",
     "output_type": "stream",
     "text": [
      "MujocoException Unknown warning type Time = 1.4200.Check for NaN in simulation.\n",
      "MujocoException Unknown warning type Time = 0.0000.Check for NaN in simulation.\n",
      "MujocoException Unknown warning type Time = 0.0000.Check for NaN in simulation.\n",
      "MujocoException Unknown warning type Time = 0.0000.Check for NaN in simulation.\n",
      "MujocoException Unknown warning type Time = 0.0000.Check for NaN in simulation.\n",
      "MujocoException Unknown warning type Time = 0.0000.Check for NaN in simulation.\n",
      "MujocoException Unknown warning type Time = 0.0000.Check for NaN in simulation.\n",
      "MujocoException Unknown warning type Time = 0.0000.Check for NaN in simulation.\n",
      "MujocoException Unknown warning type Time = 0.0000.Check for NaN in simulation.\n",
      "MujocoException Unknown warning type Time = 0.0000.Check for NaN in simulation.\n",
      "MujocoException Unknown warning type Time = 0.0000.Check for NaN in simulation.\n",
      "MujocoException Unknown warning type Time = 0.0000.Check for NaN in simulation.\n",
      "MujocoException Unknown warning type Time = 0.0000.Check for NaN in simulation.\n",
      "MujocoException Unknown warning type Time = 0.0000.Check for NaN in simulation.\n",
      "MujocoException Unknown warning type Time = 0.0000.Check for NaN in simulation.\n",
      "MujocoException Unknown warning type Time = 0.0000.Check for NaN in simulation.\n",
      "MujocoException Unknown warning type Time = 0.0000.Check for NaN in simulation.\n",
      "MujocoException Unknown warning type Time = 0.0000.Check for NaN in simulation.\n",
      "MujocoException Unknown warning type Time = 0.0000.Check for NaN in simulation.\n",
      "MujocoException Unknown warning type Time = 0.0000.Check for NaN in simulation.\n",
      "MujocoException Unknown warning type Time = 0.0000.Check for NaN in simulation.\n",
      "MujocoException Unknown warning type Time = 0.0000.Check for NaN in simulation.\n",
      "MujocoException Unknown warning type Time = 0.0000.Check for NaN in simulation.\n",
      "MujocoException Unknown warning type Time = 0.0000.Check for NaN in simulation.\n",
      "MujocoException Unknown warning type Time = 0.0000.Check for NaN in simulation.\n",
      "MujocoException Unknown warning type Time = 0.0000.Check for NaN in simulation.\n",
      "MujocoException Unknown warning type Time = 0.0000.Check for NaN in simulation.\n",
      "MujocoException Unknown warning type Time = 0.0000.Check for NaN in simulation.\n",
      "MujocoException Unknown warning type Time = 0.0000.Check for NaN in simulation.\n",
      "Epoch 56, CEM Return -9.977973140103682\n"
     ]
    },
    {
     "data": {
      "application/vnd.jupyter.widget-view+json": {
       "model_id": "e73f5de9db9a4b809f6fee2903188823",
       "version_major": 2,
       "version_minor": 0
      },
      "text/plain": [
       "  0%|          | 0/100 [00:00<?, ?it/s]"
      ]
     },
     "metadata": {},
     "output_type": "display_data"
    },
    {
     "name": "stdout",
     "output_type": "stream",
     "text": [
      "MujocoException Unknown warning type Time = 0.0000.Check for NaN in simulation.\n",
      "Epoch 57, CEM Return -4.380028303079194\n"
     ]
    },
    {
     "data": {
      "application/vnd.jupyter.widget-view+json": {
       "model_id": "cef02a137a2f41129a50e8075eafb691",
       "version_major": 2,
       "version_minor": 0
      },
      "text/plain": [
       "  0%|          | 0/100 [00:00<?, ?it/s]"
      ]
     },
     "metadata": {},
     "output_type": "display_data"
    },
    {
     "name": "stdout",
     "output_type": "stream",
     "text": [
      "Epoch 58, CEM Return 0.30985077610385203\n"
     ]
    },
    {
     "data": {
      "application/vnd.jupyter.widget-view+json": {
       "model_id": "e56a811ca6fe4e519417a5569325bd6c",
       "version_major": 2,
       "version_minor": 0
      },
      "text/plain": [
       "  0%|          | 0/100 [00:00<?, ?it/s]"
      ]
     },
     "metadata": {},
     "output_type": "display_data"
    },
    {
     "name": "stdout",
     "output_type": "stream",
     "text": [
      "Epoch 59, CEM Return 0.6547561104411459\n"
     ]
    },
    {
     "data": {
      "application/vnd.jupyter.widget-view+json": {
       "model_id": "dc8e0b05dc6d4e78884d55c5c1c3c92e",
       "version_major": 2,
       "version_minor": 0
      },
      "text/plain": [
       "  0%|          | 0/100 [00:00<?, ?it/s]"
      ]
     },
     "metadata": {},
     "output_type": "display_data"
    },
    {
     "name": "stdout",
     "output_type": "stream",
     "text": [
      "MujocoException Unknown warning type Time = 1.3000.Check for NaN in simulation.\n",
      "MujocoException Unknown warning type Time = 0.0000.Check for NaN in simulation.\n",
      "MujocoException Unknown warning type Time = 0.0000.Check for NaN in simulation.\n",
      "MujocoException Unknown warning type Time = 0.0000.Check for NaN in simulation.\n",
      "MujocoException Unknown warning type Time = 0.0000.Check for NaN in simulation.\n",
      "MujocoException Unknown warning type Time = 0.0000.Check for NaN in simulation.\n",
      "MujocoException Unknown warning type Time = 0.0000.Check for NaN in simulation.\n",
      "MujocoException Unknown warning type Time = 0.0000.Check for NaN in simulation.\n",
      "MujocoException Unknown warning type Time = 0.0000.Check for NaN in simulation.\n",
      "MujocoException Unknown warning type Time = 0.0000.Check for NaN in simulation.\n",
      "MujocoException Unknown warning type Time = 0.0000.Check for NaN in simulation.\n",
      "MujocoException Unknown warning type Time = 0.0000.Check for NaN in simulation.\n",
      "MujocoException Unknown warning type Time = 0.0000.Check for NaN in simulation.\n",
      "MujocoException Unknown warning type Time = 0.0000.Check for NaN in simulation.\n",
      "MujocoException Unknown warning type Time = 0.0000.Check for NaN in simulation.\n",
      "MujocoException Unknown warning type Time = 0.0000.Check for NaN in simulation.\n",
      "MujocoException Unknown warning type Time = 0.0000.Check for NaN in simulation.\n",
      "MujocoException Unknown warning type Time = 0.0000.Check for NaN in simulation.\n",
      "MujocoException Unknown warning type Time = 0.0000.Check for NaN in simulation.\n",
      "MujocoException Unknown warning type Time = 0.0000.Check for NaN in simulation.\n",
      "MujocoException Unknown warning type Time = 0.0000.Check for NaN in simulation.\n",
      "MujocoException Unknown warning type Time = 0.0000.Check for NaN in simulation.\n",
      "MujocoException Unknown warning type Time = 0.0000.Check for NaN in simulation.\n",
      "MujocoException Unknown warning type Time = 0.0000.Check for NaN in simulation.\n",
      "MujocoException Unknown warning type Time = 0.0000.Check for NaN in simulation.\n",
      "MujocoException Unknown warning type Time = 0.0000.Check for NaN in simulation.\n",
      "MujocoException Unknown warning type Time = 0.0000.Check for NaN in simulation.\n",
      "MujocoException Unknown warning type Time = 0.0000.Check for NaN in simulation.\n",
      "MujocoException Unknown warning type Time = 0.0000.Check for NaN in simulation.\n",
      "MujocoException Unknown warning type Time = 0.0000.Check for NaN in simulation.\n",
      "Epoch 60, CEM Return -9.664916709714198\n"
     ]
    },
    {
     "data": {
      "application/vnd.jupyter.widget-view+json": {
       "model_id": "ddfd71f97f814e5d825482ff3d9c10f7",
       "version_major": 2,
       "version_minor": 0
      },
      "text/plain": [
       "  0%|          | 0/100 [00:00<?, ?it/s]"
      ]
     },
     "metadata": {},
     "output_type": "display_data"
    },
    {
     "name": "stdout",
     "output_type": "stream",
     "text": [
      "Epoch 61, CEM Return 0.3720171474730689\n"
     ]
    },
    {
     "data": {
      "application/vnd.jupyter.widget-view+json": {
       "model_id": "b390e648a1b14a3e934fa84a78e1873a",
       "version_major": 2,
       "version_minor": 0
      },
      "text/plain": [
       "  0%|          | 0/100 [00:00<?, ?it/s]"
      ]
     },
     "metadata": {},
     "output_type": "display_data"
    },
    {
     "name": "stdout",
     "output_type": "stream",
     "text": [
      "Epoch 62, CEM Return 0.15215885439266863\n"
     ]
    },
    {
     "data": {
      "application/vnd.jupyter.widget-view+json": {
       "model_id": "ce8b4219a4ec4ae097e6bd0d7c5a746e",
       "version_major": 2,
       "version_minor": 0
      },
      "text/plain": [
       "  0%|          | 0/100 [00:00<?, ?it/s]"
      ]
     },
     "metadata": {},
     "output_type": "display_data"
    },
    {
     "name": "stdout",
     "output_type": "stream",
     "text": [
      "Epoch 63, CEM Return 0.25906581072947876\n"
     ]
    },
    {
     "data": {
      "application/vnd.jupyter.widget-view+json": {
       "model_id": "ad84a76e79584968bdf96b086181b3b5",
       "version_major": 2,
       "version_minor": 0
      },
      "text/plain": [
       "  0%|          | 0/100 [00:00<?, ?it/s]"
      ]
     },
     "metadata": {},
     "output_type": "display_data"
    },
    {
     "name": "stdout",
     "output_type": "stream",
     "text": [
      "Epoch 64, CEM Return -0.13063441985447444\n"
     ]
    },
    {
     "data": {
      "application/vnd.jupyter.widget-view+json": {
       "model_id": "7a291ba860c744ba8b4a6d3231aa4b0f",
       "version_major": 2,
       "version_minor": 0
      },
      "text/plain": [
       "  0%|          | 0/100 [00:00<?, ?it/s]"
      ]
     },
     "metadata": {},
     "output_type": "display_data"
    },
    {
     "name": "stdout",
     "output_type": "stream",
     "text": [
      "Epoch 65, CEM Return -0.26485785405567486\n"
     ]
    },
    {
     "data": {
      "application/vnd.jupyter.widget-view+json": {
       "model_id": "62b1c598ec554447a417b2fac1650586",
       "version_major": 2,
       "version_minor": 0
      },
      "text/plain": [
       "  0%|          | 0/100 [00:00<?, ?it/s]"
      ]
     },
     "metadata": {},
     "output_type": "display_data"
    },
    {
     "name": "stdout",
     "output_type": "stream",
     "text": [
      "Epoch 66, CEM Return -0.11349553763970177\n"
     ]
    },
    {
     "data": {
      "application/vnd.jupyter.widget-view+json": {
       "model_id": "2757f4e5950c42378f6d7f429edf3916",
       "version_major": 2,
       "version_minor": 0
      },
      "text/plain": [
       "  0%|          | 0/100 [00:00<?, ?it/s]"
      ]
     },
     "metadata": {},
     "output_type": "display_data"
    },
    {
     "name": "stdout",
     "output_type": "stream",
     "text": [
      "Epoch 67, CEM Return -0.1311833532470562\n"
     ]
    },
    {
     "data": {
      "application/vnd.jupyter.widget-view+json": {
       "model_id": "2dbda2befe6d4a3385419ecc54bce213",
       "version_major": 2,
       "version_minor": 0
      },
      "text/plain": [
       "  0%|          | 0/100 [00:00<?, ?it/s]"
      ]
     },
     "metadata": {},
     "output_type": "display_data"
    },
    {
     "name": "stdout",
     "output_type": "stream",
     "text": [
      "Epoch 68, CEM Return 0.9205036219005727\n"
     ]
    },
    {
     "data": {
      "application/vnd.jupyter.widget-view+json": {
       "model_id": "6e962e2466f644448a50a937bc149e0d",
       "version_major": 2,
       "version_minor": 0
      },
      "text/plain": [
       "  0%|          | 0/100 [00:00<?, ?it/s]"
      ]
     },
     "metadata": {},
     "output_type": "display_data"
    },
    {
     "name": "stdout",
     "output_type": "stream",
     "text": [
      "Epoch 69, CEM Return -0.46884098784544015\n"
     ]
    },
    {
     "data": {
      "application/vnd.jupyter.widget-view+json": {
       "model_id": "7f6189d4e87f440b95521a3f76e0fed9",
       "version_major": 2,
       "version_minor": 0
      },
      "text/plain": [
       "  0%|          | 0/100 [00:00<?, ?it/s]"
      ]
     },
     "metadata": {},
     "output_type": "display_data"
    },
    {
     "name": "stdout",
     "output_type": "stream",
     "text": [
      "Epoch 70, CEM Return 0.36749110016608677\n"
     ]
    },
    {
     "data": {
      "application/vnd.jupyter.widget-view+json": {
       "model_id": "3a7c93c149d04e4ba8e2dd8bbb1ab3b1",
       "version_major": 2,
       "version_minor": 0
      },
      "text/plain": [
       "  0%|          | 0/100 [00:00<?, ?it/s]"
      ]
     },
     "metadata": {},
     "output_type": "display_data"
    },
    {
     "name": "stdout",
     "output_type": "stream",
     "text": [
      "Epoch 71, CEM Return 0.6715976650064119\n"
     ]
    },
    {
     "data": {
      "application/vnd.jupyter.widget-view+json": {
       "model_id": "29992f622e2a4c2c9e7d08ea3c07fedf",
       "version_major": 2,
       "version_minor": 0
      },
      "text/plain": [
       "  0%|          | 0/100 [00:00<?, ?it/s]"
      ]
     },
     "metadata": {},
     "output_type": "display_data"
    },
    {
     "name": "stdout",
     "output_type": "stream",
     "text": [
      "Epoch 72, CEM Return 0.12373938023347808\n"
     ]
    },
    {
     "data": {
      "application/vnd.jupyter.widget-view+json": {
       "model_id": "83eec1ba4946493ebe27ce03f82bb62f",
       "version_major": 2,
       "version_minor": 0
      },
      "text/plain": [
       "  0%|          | 0/100 [00:00<?, ?it/s]"
      ]
     },
     "metadata": {},
     "output_type": "display_data"
    },
    {
     "name": "stdout",
     "output_type": "stream",
     "text": [
      "Epoch 73, CEM Return 0.6423312517081707\n"
     ]
    },
    {
     "data": {
      "application/vnd.jupyter.widget-view+json": {
       "model_id": "6657b72b0774427b9c445464469428ac",
       "version_major": 2,
       "version_minor": 0
      },
      "text/plain": [
       "  0%|          | 0/100 [00:00<?, ?it/s]"
      ]
     },
     "metadata": {},
     "output_type": "display_data"
    },
    {
     "name": "stdout",
     "output_type": "stream",
     "text": [
      "Epoch 74, CEM Return 0.20474548037930895\n"
     ]
    },
    {
     "data": {
      "application/vnd.jupyter.widget-view+json": {
       "model_id": "b12ca77310b64432837fcb9872af30a9",
       "version_major": 2,
       "version_minor": 0
      },
      "text/plain": [
       "  0%|          | 0/100 [00:00<?, ?it/s]"
      ]
     },
     "metadata": {},
     "output_type": "display_data"
    },
    {
     "name": "stdout",
     "output_type": "stream",
     "text": [
      "MujocoException Unknown warning type Time = 1.2400.Check for NaN in simulation.\n",
      "MujocoException Unknown warning type Time = 0.0000.Check for NaN in simulation.\n",
      "MujocoException Unknown warning type Time = 0.0000.Check for NaN in simulation.\n",
      "MujocoException Unknown warning type Time = 0.0000.Check for NaN in simulation.\n",
      "MujocoException Unknown warning type Time = 0.0000.Check for NaN in simulation.\n",
      "MujocoException Unknown warning type Time = 0.0000.Check for NaN in simulation.\n",
      "MujocoException Unknown warning type Time = 0.0000.Check for NaN in simulation.\n",
      "MujocoException Unknown warning type Time = 0.0000.Check for NaN in simulation.\n",
      "MujocoException Unknown warning type Time = 0.0000.Check for NaN in simulation.\n",
      "MujocoException Unknown warning type Time = 0.0000.Check for NaN in simulation.\n",
      "MujocoException Unknown warning type Time = 0.0000.Check for NaN in simulation.\n",
      "MujocoException Unknown warning type Time = 0.0000.Check for NaN in simulation.\n",
      "MujocoException Unknown warning type Time = 0.0000.Check for NaN in simulation.\n",
      "MujocoException Unknown warning type Time = 0.0000.Check for NaN in simulation.\n",
      "MujocoException Unknown warning type Time = 0.0000.Check for NaN in simulation.\n",
      "MujocoException Unknown warning type Time = 0.0000.Check for NaN in simulation.\n",
      "MujocoException Unknown warning type Time = 0.0000.Check for NaN in simulation.\n",
      "MujocoException Unknown warning type Time = 0.0000.Check for NaN in simulation.\n",
      "MujocoException Unknown warning type Time = 0.0000.Check for NaN in simulation.\n",
      "MujocoException Unknown warning type Time = 0.0000.Check for NaN in simulation.\n",
      "MujocoException Unknown warning type Time = 0.0000.Check for NaN in simulation.\n",
      "MujocoException Unknown warning type Time = 0.0000.Check for NaN in simulation.\n",
      "MujocoException Unknown warning type Time = 0.0000.Check for NaN in simulation.\n",
      "MujocoException Unknown warning type Time = 0.0000.Check for NaN in simulation.\n",
      "MujocoException Unknown warning type Time = 0.0000.Check for NaN in simulation.\n",
      "MujocoException Unknown warning type Time = 0.0000.Check for NaN in simulation.\n",
      "MujocoException Unknown warning type Time = 0.0000.Check for NaN in simulation.\n",
      "MujocoException Unknown warning type Time = 0.0000.Check for NaN in simulation.\n",
      "MujocoException Unknown warning type Time = 0.0000.Check for NaN in simulation.\n",
      "MujocoException Unknown warning type Time = 0.0000.Check for NaN in simulation.\n",
      "Epoch 75, CEM Return -9.631461781880267\n"
     ]
    },
    {
     "data": {
      "application/vnd.jupyter.widget-view+json": {
       "model_id": "edd623041e3548f4b2170ffddb681c36",
       "version_major": 2,
       "version_minor": 0
      },
      "text/plain": [
       "  0%|          | 0/100 [00:00<?, ?it/s]"
      ]
     },
     "metadata": {},
     "output_type": "display_data"
    },
    {
     "name": "stdout",
     "output_type": "stream",
     "text": [
      "Epoch 76, CEM Return 0.7259543101142109\n"
     ]
    },
    {
     "data": {
      "application/vnd.jupyter.widget-view+json": {
       "model_id": "dcfe6b0d16f74243ae814a2429e443e4",
       "version_major": 2,
       "version_minor": 0
      },
      "text/plain": [
       "  0%|          | 0/100 [00:00<?, ?it/s]"
      ]
     },
     "metadata": {},
     "output_type": "display_data"
    },
    {
     "name": "stdout",
     "output_type": "stream",
     "text": [
      "Epoch 77, CEM Return 0.6996519389619325\n"
     ]
    },
    {
     "data": {
      "application/vnd.jupyter.widget-view+json": {
       "model_id": "b0cdf000b410415ca926199023c9d215",
       "version_major": 2,
       "version_minor": 0
      },
      "text/plain": [
       "  0%|          | 0/100 [00:00<?, ?it/s]"
      ]
     },
     "metadata": {},
     "output_type": "display_data"
    },
    {
     "name": "stdout",
     "output_type": "stream",
     "text": [
      "Epoch 78, CEM Return 0.2566332997718166\n"
     ]
    },
    {
     "data": {
      "application/vnd.jupyter.widget-view+json": {
       "model_id": "8a5711dbc32a459b9de12aad83afcf72",
       "version_major": 2,
       "version_minor": 0
      },
      "text/plain": [
       "  0%|          | 0/100 [00:00<?, ?it/s]"
      ]
     },
     "metadata": {},
     "output_type": "display_data"
    },
    {
     "name": "stdout",
     "output_type": "stream",
     "text": [
      "MujocoException Unknown warning type Time = 0.8000.Check for NaN in simulation.\n",
      "MujocoException Unknown warning type Time = 0.0000.Check for NaN in simulation.\n",
      "MujocoException Unknown warning type Time = 0.0000.Check for NaN in simulation.\n",
      "MujocoException Unknown warning type Time = 0.0000.Check for NaN in simulation.\n",
      "MujocoException Unknown warning type Time = 0.0000.Check for NaN in simulation.\n",
      "MujocoException Unknown warning type Time = 0.0000.Check for NaN in simulation.\n",
      "MujocoException Unknown warning type Time = 0.0000.Check for NaN in simulation.\n",
      "MujocoException Unknown warning type Time = 0.0000.Check for NaN in simulation.\n",
      "MujocoException Unknown warning type Time = 0.0000.Check for NaN in simulation.\n",
      "MujocoException Unknown warning type Time = 0.0000.Check for NaN in simulation.\n",
      "MujocoException Unknown warning type Time = 0.0000.Check for NaN in simulation.\n",
      "MujocoException Unknown warning type Time = 0.0000.Check for NaN in simulation.\n",
      "MujocoException Unknown warning type Time = 0.0000.Check for NaN in simulation.\n",
      "MujocoException Unknown warning type Time = 0.0000.Check for NaN in simulation.\n",
      "MujocoException Unknown warning type Time = 0.0000.Check for NaN in simulation.\n",
      "MujocoException Unknown warning type Time = 0.0000.Check for NaN in simulation.\n",
      "MujocoException Unknown warning type Time = 0.0000.Check for NaN in simulation.\n",
      "MujocoException Unknown warning type Time = 0.0000.Check for NaN in simulation.\n",
      "MujocoException Unknown warning type Time = 0.0000.Check for NaN in simulation.\n",
      "MujocoException Unknown warning type Time = 0.0000.Check for NaN in simulation.\n",
      "MujocoException Unknown warning type Time = 0.0000.Check for NaN in simulation.\n",
      "MujocoException Unknown warning type Time = 0.0000.Check for NaN in simulation.\n",
      "MujocoException Unknown warning type Time = 0.0000.Check for NaN in simulation.\n",
      "MujocoException Unknown warning type Time = 0.0000.Check for NaN in simulation.\n",
      "MujocoException Unknown warning type Time = 0.0000.Check for NaN in simulation.\n",
      "MujocoException Unknown warning type Time = 0.0000.Check for NaN in simulation.\n",
      "MujocoException Unknown warning type Time = 0.0000.Check for NaN in simulation.\n",
      "MujocoException Unknown warning type Time = 0.0000.Check for NaN in simulation.\n",
      "MujocoException Unknown warning type Time = 0.0000.Check for NaN in simulation.\n",
      "MujocoException Unknown warning type Time = 0.0000.Check for NaN in simulation.\n",
      "Epoch 79, CEM Return -9.666445709179264\n"
     ]
    },
    {
     "data": {
      "application/vnd.jupyter.widget-view+json": {
       "model_id": "1cb591e16b074fd5b0b8a54fc5f0b147",
       "version_major": 2,
       "version_minor": 0
      },
      "text/plain": [
       "  0%|          | 0/100 [00:00<?, ?it/s]"
      ]
     },
     "metadata": {},
     "output_type": "display_data"
    },
    {
     "name": "stdout",
     "output_type": "stream",
     "text": [
      "Epoch 80, CEM Return 0.20324382968354437\n"
     ]
    },
    {
     "data": {
      "application/vnd.jupyter.widget-view+json": {
       "model_id": "921c9411c3b242b28e7cdbf3c59081a5",
       "version_major": 2,
       "version_minor": 0
      },
      "text/plain": [
       "  0%|          | 0/100 [00:00<?, ?it/s]"
      ]
     },
     "metadata": {},
     "output_type": "display_data"
    },
    {
     "name": "stdout",
     "output_type": "stream",
     "text": [
      "Epoch 81, CEM Return 0.11980847620802004\n"
     ]
    },
    {
     "data": {
      "application/vnd.jupyter.widget-view+json": {
       "model_id": "73e93aa86a7646b5a8e7077fb46a5c87",
       "version_major": 2,
       "version_minor": 0
      },
      "text/plain": [
       "  0%|          | 0/100 [00:00<?, ?it/s]"
      ]
     },
     "metadata": {},
     "output_type": "display_data"
    },
    {
     "name": "stdout",
     "output_type": "stream",
     "text": [
      "Epoch 82, CEM Return -0.40821451800278163\n"
     ]
    },
    {
     "data": {
      "application/vnd.jupyter.widget-view+json": {
       "model_id": "db3ecb8e86aa47f58442889d487aca03",
       "version_major": 2,
       "version_minor": 0
      },
      "text/plain": [
       "  0%|          | 0/100 [00:00<?, ?it/s]"
      ]
     },
     "metadata": {},
     "output_type": "display_data"
    },
    {
     "name": "stdout",
     "output_type": "stream",
     "text": [
      "Epoch 83, CEM Return -0.21725858949956278\n"
     ]
    },
    {
     "data": {
      "application/vnd.jupyter.widget-view+json": {
       "model_id": "e37cfacc69474502a6e21639e9799775",
       "version_major": 2,
       "version_minor": 0
      },
      "text/plain": [
       "  0%|          | 0/100 [00:00<?, ?it/s]"
      ]
     },
     "metadata": {},
     "output_type": "display_data"
    },
    {
     "name": "stdout",
     "output_type": "stream",
     "text": [
      "MujocoException Unknown warning type Time = 1.8800.Check for NaN in simulation.\n",
      "MujocoException Unknown warning type Time = 0.0000.Check for NaN in simulation.\n",
      "MujocoException Unknown warning type Time = 0.0000.Check for NaN in simulation.\n",
      "MujocoException Unknown warning type Time = 0.0000.Check for NaN in simulation.\n",
      "MujocoException Unknown warning type Time = 0.0000.Check for NaN in simulation.\n",
      "MujocoException Unknown warning type Time = 0.0000.Check for NaN in simulation.\n",
      "Epoch 84, CEM Return -9.86495999661489\n"
     ]
    },
    {
     "data": {
      "application/vnd.jupyter.widget-view+json": {
       "model_id": "3bbe5b2b49504775a7e283fcde4f8966",
       "version_major": 2,
       "version_minor": 0
      },
      "text/plain": [
       "  0%|          | 0/100 [00:00<?, ?it/s]"
      ]
     },
     "metadata": {},
     "output_type": "display_data"
    },
    {
     "name": "stdout",
     "output_type": "stream",
     "text": [
      "MujocoException Unknown warning type Time = 0.0000.Check for NaN in simulation.\n",
      "MujocoException Unknown warning type Time = 0.0000.Check for NaN in simulation.\n",
      "MujocoException Unknown warning type Time = 0.0000.Check for NaN in simulation.\n",
      "MujocoException Unknown warning type Time = 0.0000.Check for NaN in simulation.\n",
      "MujocoException Unknown warning type Time = 0.0000.Check for NaN in simulation.\n",
      "MujocoException Unknown warning type Time = 0.0000.Check for NaN in simulation.\n",
      "MujocoException Unknown warning type Time = 0.0000.Check for NaN in simulation.\n",
      "MujocoException Unknown warning type Time = 0.0000.Check for NaN in simulation.\n",
      "MujocoException Unknown warning type Time = 0.0000.Check for NaN in simulation.\n",
      "MujocoException Unknown warning type Time = 0.0000.Check for NaN in simulation.\n",
      "MujocoException Unknown warning type Time = 0.0000.Check for NaN in simulation.\n",
      "MujocoException Unknown warning type Time = 0.0000.Check for NaN in simulation.\n",
      "MujocoException Unknown warning type Time = 0.0000.Check for NaN in simulation.\n",
      "MujocoException Unknown warning type Time = 0.0000.Check for NaN in simulation.\n",
      "MujocoException Unknown warning type Time = 0.0000.Check for NaN in simulation.\n",
      "MujocoException Unknown warning type Time = 0.0000.Check for NaN in simulation.\n",
      "MujocoException Unknown warning type Time = 0.0000.Check for NaN in simulation.\n",
      "MujocoException Unknown warning type Time = 0.0000.Check for NaN in simulation.\n",
      "MujocoException Unknown warning type Time = 0.0000.Check for NaN in simulation.\n",
      "MujocoException Unknown warning type Time = 0.0000.Check for NaN in simulation.\n",
      "MujocoException Unknown warning type Time = 0.0000.Check for NaN in simulation.\n",
      "MujocoException Unknown warning type Time = 0.0000.Check for NaN in simulation.\n",
      "MujocoException Unknown warning type Time = 0.0000.Check for NaN in simulation.\n",
      "MujocoException Unknown warning type Time = 0.0000.Check for NaN in simulation.\n",
      "Epoch 85, CEM Return -9.590149055159914\n"
     ]
    },
    {
     "data": {
      "application/vnd.jupyter.widget-view+json": {
       "model_id": "494d70f1b4a74ea095cff87a99f707f9",
       "version_major": 2,
       "version_minor": 0
      },
      "text/plain": [
       "  0%|          | 0/100 [00:00<?, ?it/s]"
      ]
     },
     "metadata": {},
     "output_type": "display_data"
    },
    {
     "name": "stdout",
     "output_type": "stream",
     "text": [
      "Epoch 86, CEM Return 0.3979338371085276\n"
     ]
    },
    {
     "data": {
      "application/vnd.jupyter.widget-view+json": {
       "model_id": "204f6f736639430faf2a4aedf27dde0f",
       "version_major": 2,
       "version_minor": 0
      },
      "text/plain": [
       "  0%|          | 0/100 [00:00<?, ?it/s]"
      ]
     },
     "metadata": {},
     "output_type": "display_data"
    },
    {
     "name": "stdout",
     "output_type": "stream",
     "text": [
      "Epoch 87, CEM Return 0.09797285085903107\n"
     ]
    },
    {
     "data": {
      "application/vnd.jupyter.widget-view+json": {
       "model_id": "6efb76b87c364c298954752e91bdb05e",
       "version_major": 2,
       "version_minor": 0
      },
      "text/plain": [
       "  0%|          | 0/100 [00:00<?, ?it/s]"
      ]
     },
     "metadata": {},
     "output_type": "display_data"
    },
    {
     "name": "stdout",
     "output_type": "stream",
     "text": [
      "Epoch 88, CEM Return 0.07149110033537975\n"
     ]
    },
    {
     "data": {
      "application/vnd.jupyter.widget-view+json": {
       "model_id": "6597510e1c7048d0a678272bb37e8789",
       "version_major": 2,
       "version_minor": 0
      },
      "text/plain": [
       "  0%|          | 0/100 [00:00<?, ?it/s]"
      ]
     },
     "metadata": {},
     "output_type": "display_data"
    },
    {
     "name": "stdout",
     "output_type": "stream",
     "text": [
      "MujocoException Unknown warning type Time = 0.7200.Check for NaN in simulation.\n",
      "MujocoException Unknown warning type Time = 0.0000.Check for NaN in simulation.\n",
      "MujocoException Unknown warning type Time = 0.0000.Check for NaN in simulation.\n",
      "MujocoException Unknown warning type Time = 0.0000.Check for NaN in simulation.\n",
      "MujocoException Unknown warning type Time = 0.0000.Check for NaN in simulation.\n",
      "MujocoException Unknown warning type Time = 0.0000.Check for NaN in simulation.\n",
      "MujocoException Unknown warning type Time = 0.0000.Check for NaN in simulation.\n",
      "MujocoException Unknown warning type Time = 0.0000.Check for NaN in simulation.\n",
      "MujocoException Unknown warning type Time = 0.0000.Check for NaN in simulation.\n",
      "MujocoException Unknown warning type Time = 0.0000.Check for NaN in simulation.\n",
      "MujocoException Unknown warning type Time = 0.0000.Check for NaN in simulation.\n",
      "MujocoException Unknown warning type Time = 0.0000.Check for NaN in simulation.\n",
      "MujocoException Unknown warning type Time = 0.0000.Check for NaN in simulation.\n",
      "MujocoException Unknown warning type Time = 0.0000.Check for NaN in simulation.\n",
      "MujocoException Unknown warning type Time = 0.0000.Check for NaN in simulation.\n",
      "MujocoException Unknown warning type Time = 0.0000.Check for NaN in simulation.\n",
      "MujocoException Unknown warning type Time = 0.0000.Check for NaN in simulation.\n",
      "MujocoException Unknown warning type Time = 0.0000.Check for NaN in simulation.\n",
      "MujocoException Unknown warning type Time = 0.0000.Check for NaN in simulation.\n",
      "MujocoException Unknown warning type Time = 0.0000.Check for NaN in simulation.\n",
      "MujocoException Unknown warning type Time = 0.0000.Check for NaN in simulation.\n",
      "MujocoException Unknown warning type Time = 0.0000.Check for NaN in simulation.\n",
      "MujocoException Unknown warning type Time = 0.0000.Check for NaN in simulation.\n",
      "MujocoException Unknown warning type Time = 0.0000.Check for NaN in simulation.\n",
      "MujocoException Unknown warning type Time = 0.0000.Check for NaN in simulation.\n",
      "MujocoException Unknown warning type Time = 0.0000.Check for NaN in simulation.\n",
      "MujocoException Unknown warning type Time = 0.0000.Check for NaN in simulation.\n",
      "MujocoException Unknown warning type Time = 0.0000.Check for NaN in simulation.\n",
      "MujocoException Unknown warning type Time = 0.0000.Check for NaN in simulation.\n",
      "MujocoException Unknown warning type Time = 0.0000.Check for NaN in simulation.\n",
      "Epoch 89, CEM Return -9.661255096767706\n"
     ]
    },
    {
     "data": {
      "application/vnd.jupyter.widget-view+json": {
       "model_id": "7cd21694d22a404d928e8454855c7c35",
       "version_major": 2,
       "version_minor": 0
      },
      "text/plain": [
       "  0%|          | 0/100 [00:00<?, ?it/s]"
      ]
     },
     "metadata": {},
     "output_type": "display_data"
    },
    {
     "name": "stdout",
     "output_type": "stream",
     "text": [
      "Epoch 90, CEM Return 0.25525045651964984\n"
     ]
    },
    {
     "data": {
      "application/vnd.jupyter.widget-view+json": {
       "model_id": "0048fcac6abe4fda90c3d73da6caa40e",
       "version_major": 2,
       "version_minor": 0
      },
      "text/plain": [
       "  0%|          | 0/100 [00:00<?, ?it/s]"
      ]
     },
     "metadata": {},
     "output_type": "display_data"
    },
    {
     "name": "stdout",
     "output_type": "stream",
     "text": [
      "MujocoException Unknown warning type Time = 1.4400.Check for NaN in simulation.\n",
      "MujocoException Unknown warning type Time = 0.0000.Check for NaN in simulation.\n",
      "MujocoException Unknown warning type Time = 0.0000.Check for NaN in simulation.\n",
      "MujocoException Unknown warning type Time = 0.0000.Check for NaN in simulation.\n",
      "MujocoException Unknown warning type Time = 0.0000.Check for NaN in simulation.\n",
      "MujocoException Unknown warning type Time = 0.0000.Check for NaN in simulation.\n",
      "MujocoException Unknown warning type Time = 0.0000.Check for NaN in simulation.\n",
      "MujocoException Unknown warning type Time = 0.0000.Check for NaN in simulation.\n",
      "MujocoException Unknown warning type Time = 0.0000.Check for NaN in simulation.\n",
      "MujocoException Unknown warning type Time = 0.0000.Check for NaN in simulation.\n",
      "MujocoException Unknown warning type Time = 0.0000.Check for NaN in simulation.\n",
      "MujocoException Unknown warning type Time = 0.0000.Check for NaN in simulation.\n",
      "MujocoException Unknown warning type Time = 0.0000.Check for NaN in simulation.\n",
      "MujocoException Unknown warning type Time = 0.0000.Check for NaN in simulation.\n",
      "MujocoException Unknown warning type Time = 0.0000.Check for NaN in simulation.\n",
      "MujocoException Unknown warning type Time = 0.0000.Check for NaN in simulation.\n",
      "MujocoException Unknown warning type Time = 0.0000.Check for NaN in simulation.\n",
      "MujocoException Unknown warning type Time = 0.0000.Check for NaN in simulation.\n",
      "MujocoException Unknown warning type Time = 0.0000.Check for NaN in simulation.\n",
      "MujocoException Unknown warning type Time = 0.0000.Check for NaN in simulation.\n",
      "MujocoException Unknown warning type Time = 0.0000.Check for NaN in simulation.\n",
      "MujocoException Unknown warning type Time = 0.0000.Check for NaN in simulation.\n",
      "MujocoException Unknown warning type Time = 0.0000.Check for NaN in simulation.\n",
      "MujocoException Unknown warning type Time = 0.0000.Check for NaN in simulation.\n",
      "MujocoException Unknown warning type Time = 0.0000.Check for NaN in simulation.\n",
      "MujocoException Unknown warning type Time = 0.0000.Check for NaN in simulation.\n",
      "MujocoException Unknown warning type Time = 0.0000.Check for NaN in simulation.\n",
      "MujocoException Unknown warning type Time = 0.0000.Check for NaN in simulation.\n",
      "Epoch 91, CEM Return -9.971259859106535\n"
     ]
    },
    {
     "data": {
      "application/vnd.jupyter.widget-view+json": {
       "model_id": "5bcbb0c118964f2b9f471ef5250d8b08",
       "version_major": 2,
       "version_minor": 0
      },
      "text/plain": [
       "  0%|          | 0/100 [00:00<?, ?it/s]"
      ]
     },
     "metadata": {},
     "output_type": "display_data"
    },
    {
     "name": "stdout",
     "output_type": "stream",
     "text": [
      "MujocoException Unknown warning type Time = 0.0000.Check for NaN in simulation.\n",
      "MujocoException Unknown warning type Time = 0.0000.Check for NaN in simulation.\n",
      "Epoch 92, CEM Return -6.394606059905936\n"
     ]
    },
    {
     "data": {
      "application/vnd.jupyter.widget-view+json": {
       "model_id": "b2ca4116f3364e118de95a29255c9da1",
       "version_major": 2,
       "version_minor": 0
      },
      "text/plain": [
       "  0%|          | 0/100 [00:00<?, ?it/s]"
      ]
     },
     "metadata": {},
     "output_type": "display_data"
    },
    {
     "name": "stdout",
     "output_type": "stream",
     "text": [
      "Epoch 93, CEM Return -0.4348086892395253\n"
     ]
    },
    {
     "data": {
      "application/vnd.jupyter.widget-view+json": {
       "model_id": "0476490be4514ee490890441e774ce27",
       "version_major": 2,
       "version_minor": 0
      },
      "text/plain": [
       "  0%|          | 0/100 [00:00<?, ?it/s]"
      ]
     },
     "metadata": {},
     "output_type": "display_data"
    },
    {
     "name": "stdout",
     "output_type": "stream",
     "text": [
      "Epoch 94, CEM Return -0.09699347869965758\n"
     ]
    },
    {
     "data": {
      "application/vnd.jupyter.widget-view+json": {
       "model_id": "684d3bec3cb64b6e8f4cb613c3d13cf2",
       "version_major": 2,
       "version_minor": 0
      },
      "text/plain": [
       "  0%|          | 0/100 [00:00<?, ?it/s]"
      ]
     },
     "metadata": {},
     "output_type": "display_data"
    },
    {
     "name": "stdout",
     "output_type": "stream",
     "text": [
      "Epoch 95, CEM Return 0.08738555980691753\n"
     ]
    },
    {
     "data": {
      "application/vnd.jupyter.widget-view+json": {
       "model_id": "d6315eb596ca47f2a4d2abd02433150f",
       "version_major": 2,
       "version_minor": 0
      },
      "text/plain": [
       "  0%|          | 0/100 [00:00<?, ?it/s]"
      ]
     },
     "metadata": {},
     "output_type": "display_data"
    },
    {
     "name": "stdout",
     "output_type": "stream",
     "text": [
      "Epoch 96, CEM Return 0.5726879035545923\n"
     ]
    },
    {
     "data": {
      "application/vnd.jupyter.widget-view+json": {
       "model_id": "831050172c3c46ca9d6579290bba21f5",
       "version_major": 2,
       "version_minor": 0
      },
      "text/plain": [
       "  0%|          | 0/100 [00:00<?, ?it/s]"
      ]
     },
     "metadata": {},
     "output_type": "display_data"
    },
    {
     "name": "stdout",
     "output_type": "stream",
     "text": [
      "Epoch 97, CEM Return 0.0023911389868475075\n"
     ]
    },
    {
     "data": {
      "application/vnd.jupyter.widget-view+json": {
       "model_id": "5144fa903c1f47408fe7c5fddc390166",
       "version_major": 2,
       "version_minor": 0
      },
      "text/plain": [
       "  0%|          | 0/100 [00:00<?, ?it/s]"
      ]
     },
     "metadata": {},
     "output_type": "display_data"
    },
    {
     "name": "stdout",
     "output_type": "stream",
     "text": [
      "Epoch 98, CEM Return -0.5256214368520691\n"
     ]
    },
    {
     "data": {
      "application/vnd.jupyter.widget-view+json": {
       "model_id": "713be8d90e8049eebeac0c661deb3842",
       "version_major": 2,
       "version_minor": 0
      },
      "text/plain": [
       "  0%|          | 0/100 [00:00<?, ?it/s]"
      ]
     },
     "metadata": {},
     "output_type": "display_data"
    },
    {
     "name": "stdout",
     "output_type": "stream",
     "text": [
      "Epoch 99, CEM Return 0.5990601255455175\n"
     ]
    }
   ],
   "source": [
    "wandb.init(project='safety-gym',\n",
    "           group=\"testing\",\n",
    "           config=args)\n",
    "\n",
    "for epoch in range(100):\n",
    "    exploration_before_start(args, env_sampler, env_pool, cem_agent)\n",
    "    train_predict_model(args, env_pool, predict_env)\n",
    "    cem_rollout = rollout(1000, args.epoch_length, env, cem_agent)\n",
    "    ret = np.mean(cem_rollout[\"eps_ret\"])\n",
    "    wandb.log({\"CEM/return\": ret})\n",
    "    print(f\"Epoch {epoch}, CEM Return {ret}\")\n",
    "    "
   ]
  },
  {
   "cell_type": "code",
   "execution_count": null,
   "id": "8ba3b8e2",
   "metadata": {},
   "outputs": [],
   "source": []
  }
 ],
 "metadata": {
  "kernelspec": {
   "display_name": "offline-saferl",
   "language": "python",
   "name": "offline-saferl"
  },
  "language_info": {
   "codemirror_mode": {
    "name": "ipython",
    "version": 3
   },
   "file_extension": ".py",
   "mimetype": "text/x-python",
   "name": "python",
   "nbconvert_exporter": "python",
   "pygments_lexer": "ipython3",
   "version": "3.6.13"
  }
 },
 "nbformat": 4,
 "nbformat_minor": 5
}
