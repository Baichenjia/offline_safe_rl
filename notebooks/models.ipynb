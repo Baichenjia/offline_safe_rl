{
 "cells": [
  {
   "cell_type": "code",
   "execution_count": 59,
   "id": "2e70e653",
   "metadata": {
    "execution": {
     "iopub.execute_input": "2021-04-13T01:28:46.197801Z",
     "iopub.status.busy": "2021-04-13T01:28:46.197507Z",
     "iopub.status.idle": "2021-04-13T01:28:46.202660Z",
     "shell.execute_reply": "2021-04-13T01:28:46.202264Z",
     "shell.execute_reply.started": "2021-04-13T01:28:46.197770Z"
    },
    "tags": []
   },
   "outputs": [],
   "source": [
    "import torch\n",
    "import torch.nn as nn\n",
    "from torch.distributions import Normal\n",
    "\n",
    "def mlp(input_size, hidden_sizes=(64, 64), activation=\"tanh\"):\n",
    "    if activation == \"tanh\":\n",
    "        activation = nn.Tanh()\n",
    "    elif activation == \"relu\":\n",
    "        activation = nn.ReLU()\n",
    "    elif activation == \"sigmoid\":\n",
    "        activation = nn.Sigmoid()\n",
    "    else:\n",
    "        raise NotImplementedError(f\"Activation {activation} is not supported\")\n",
    "    \n",
    "    layers = []\n",
    "    sizes = (input_size, ) + hidden_sizes\n",
    "    for i in range(len(hidden_sizes)):\n",
    "        layers += [nn.Linear(sizes[i], sizes[i+1]), activation]\n",
    "    return nn.Sequential(*layers)\n",
    "\n",
    "class GaussianPolicy(nn.Module):\n",
    "    def __init__(self, obs_dim, act_dim, hidden_sizes=(64, 64), activation=\"tanh\", device=\"cpu\"):\n",
    "        super().__init__()\n",
    "        \n",
    "        self.obs_dim = obs_dim\n",
    "        self.act_dim = act_dim\n",
    "        self.device = device\n",
    "        \n",
    "        self.mlp_net = mlp(obs_dim, hidden_sizes, activation)\n",
    "        self.mean_layer = nn.Linear(hidden_sizes[-1], act_dim)\n",
    "        self.logstd_layer = nn.Linear(hidden_sizes[-1], act_dim)\n",
    "        \n",
    "        self.mean_layer.weight.data.mul_(0.1)\n",
    "        self.mean_layer.bias.data.mul_(0.0)\n",
    "        self.to(device)\n",
    "    \n",
    "    def forward(self, obs):\n",
    "        out = self.mlp_net(obs)\n",
    "        mean = self.mean_layer(out)\n",
    "        if len(mean.size()) == 1:\n",
    "            mean = mean.view(1, -1)\n",
    "        logstd = self.logstd_layer(out)\n",
    "        std = torch.exp(logstd)\n",
    "        return mean, logstd, std\n",
    "    \n",
    "    def get_act(self, obs, deterministic=False):\n",
    "        mean, _, std = self.forward(obs)\n",
    "        if deterministic:\n",
    "            return mean\n",
    "        else:\n",
    "            return torch.normal(mean, std)\n",
    "    \n",
    "    # Agent interface\n",
    "    def select_action(self, obs):\n",
    "        x = torch.FloatTensor(obs).to(self.device)\n",
    "        out = self.get_act(x)\n",
    "        action = out.cpu().detach().numpy()\n",
    "        return action[0]\n",
    "    \n",
    "    def logprob(self, obs, act):\n",
    "        mean, _, std = self.forward(obs)\n",
    "        normal = Normal(mean, std)\n",
    "        return normal.log_prob(act).sum(-1, keepdim=True), mean, std"
   ]
  },
  {
   "cell_type": "code",
   "execution_count": 73,
   "id": "8b1c589f",
   "metadata": {
    "execution": {
     "iopub.execute_input": "2021-04-13T01:33:11.998342Z",
     "iopub.status.busy": "2021-04-13T01:33:11.998168Z",
     "iopub.status.idle": "2021-04-13T01:33:12.102995Z",
     "shell.execute_reply": "2021-04-13T01:33:12.102669Z",
     "shell.execute_reply.started": "2021-04-13T01:33:11.998325Z"
    },
    "tags": []
   },
   "outputs": [
    {
     "name": "stderr",
     "output_type": "stream",
     "text": [
      "/home/andrew/miniconda3/envs/offline-saferl/lib/python3.6/site-packages/gym/logger.py:30: UserWarning: \u001b[33mWARN: Box bound precision lowered by casting to float32\u001b[0m\n",
      "  warnings.warn(colorize('%s: %s'%('WARN', msg % args), 'yellow'))\n"
     ]
    }
   ],
   "source": [
    "import gym\n",
    "import safety_gym\n",
    "import numpy as np\n",
    "\n",
    "env_name = 'Safexp-PointGoal1-v0'\n",
    "env = gym.make(env_name)\n",
    "max_ep_length = 1000\n",
    "\n",
    "obs_shape = env.observation_space.shape\n",
    "act_shape = env.action_space.shape"
   ]
  },
  {
   "cell_type": "code",
   "execution_count": 79,
   "id": "1c599d1e",
   "metadata": {
    "execution": {
     "iopub.execute_input": "2021-04-13T01:47:10.090412Z",
     "iopub.status.busy": "2021-04-13T01:47:10.090230Z",
     "iopub.status.idle": "2021-04-13T01:47:10.290349Z",
     "shell.execute_reply": "2021-04-13T01:47:10.289964Z",
     "shell.execute_reply.started": "2021-04-13T01:47:10.090395Z"
    },
    "tags": []
   },
   "outputs": [
    {
     "name": "stdout",
     "output_type": "stream",
     "text": [
      "tensor([[1.2676, 0.9684]], grad_fn=<NormalBackward3>) tensor([[-3.3132]], grad_fn=<SumBackward1>)\n"
     ]
    }
   ],
   "source": [
    "policy = GaussianPolicy(obs_shape[0], act_shape[0])\n",
    "obs = env.reset()\n",
    "obs = torch.FloatTensor(obs)\n",
    "act = policy.get_act(obs)\n",
    "lp, _, _ = policy.logprob(obs, act)\n",
    "print(act, lp)"
   ]
  }
 ],
 "metadata": {
  "kernelspec": {
   "display_name": "offline-saferl",
   "language": "python",
   "name": "offline-saferl"
  },
  "language_info": {
   "codemirror_mode": {
    "name": "ipython",
    "version": 3
   },
   "file_extension": ".py",
   "mimetype": "text/x-python",
   "name": "python",
   "nbconvert_exporter": "python",
   "pygments_lexer": "ipython3",
   "version": "3.6.13"
  }
 },
 "nbformat": 4,
 "nbformat_minor": 5
}
